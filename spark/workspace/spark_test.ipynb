{
 "cells": [
  {
   "cell_type": "code",
   "execution_count": null,
   "id": "ee521217",
   "metadata": {},
   "outputs": [],
   "source": [
    "import pyspark"
   ]
  },
  {
   "cell_type": "code",
   "execution_count": null,
   "id": "e1362575",
   "metadata": {},
   "outputs": [],
   "source": [
    "conf = pyspark.SparkConf()\n",
    "conf.setMaster('spark://spark-master:7077')\n",
    "spark_context = pyspark.SparkContext(conf=conf)"
   ]
  },
  {
   "cell_type": "code",
   "execution_count": null,
   "id": "e169a1ac",
   "metadata": {},
   "outputs": [],
   "source": [
    "# Открытие текстового файла и превращение его в RDD.\n",
    "# К докеру со spark-worker примаунчена папка /user-data с вашего диска, в которой лежат скачанные данные.\n",
    "data = spark_context.textFile('/user-data/combined/reviews.csv')\n",
    "# Берём первую строку — для дальнейшей фильтрации. Первая строка отвечает за заголовки, они нас не интересуют.\n",
    "header_data = data.first()\n",
    "# Начались вычисления. Первая функция пропускает все данные, кроме первой строки с заголовками.\n",
    "# Функция map разделяет строку на колонки, используя разделитель `,`.\n",
    "original_data = data.filter(lambda row: row != header_data).map(\n",
    "    lambda line: line.split(\",\"))\n",
    "original_data.take(10)"
   ]
  },
  {
   "cell_type": "code",
   "execution_count": null,
   "id": "09fcd7f7",
   "metadata": {},
   "outputs": [],
   "source": [
    "result_data = original_data.filter(lambda line: len(line) > 5)\n",
    "result_data.take(1)"
   ]
  },
  {
   "cell_type": "code",
   "execution_count": null,
   "id": "f95ea305",
   "metadata": {},
   "outputs": [],
   "source": [
    "# Всего\n",
    "print(result_data.count())\n",
    "# Ненужных данных\n",
    "print(result_data.filter(lambda line: not line[4].isdigit()).count())"
   ]
  },
  {
   "cell_type": "code",
   "execution_count": null,
   "id": "6f3ce076",
   "metadata": {},
   "outputs": [],
   "source": [
    "# В случае с combined таких строк 494 из общего числа — 22168. Это меньше 3% данных. \n",
    "# В этой задаче таким количеством данных можно пренебречь. \n",
    "# Пропустите эти строки, добавив фильтр и изменив в нём условие на обратное.\n",
    "filtered_data = result_data.filter(lambda line: line[4].isdigit())\n",
    "# Тут всё ещё есть лишние данные. Нас интересуют всего два столбца — key и stars. \n",
    "# В этом примере их значения 0_bj и 3 соответственно.\n",
    "# Отделите эти данные от всех остальных, дальше работа будет только с ними.\n",
    "result_data = filtered_data.map(lambda line: (line[1], int(line[4])))\n",
    "# Для расчёта среднего арифметического тоже нужно знать количество. Вызовите функцию, которая каждому элементу добавляет 1.\n",
    "result_data = result_data.map(lambda line: (line[0], (line[1], 1)))\n",
    "result_data.take(10)"
   ]
  },
  {
   "cell_type": "code",
   "execution_count": null,
   "id": "0599c5b8",
   "metadata": {
    "scrolled": false
   },
   "outputs": [],
   "source": [
    "reduced_data = result_data.reduceByKey(\n",
    "    lambda val1, val2: (val1[0] + val2[0], val1[1] + val2[1]))\n",
    "reduced_data = reduced_data.mapValues(lambda x: x[0] / x[1])\n",
    "# Бренд / рейтинг\n",
    "reduced_data.take(10)"
   ]
  },
  {
   "cell_type": "code",
   "execution_count": null,
   "id": "24628a40",
   "metadata": {},
   "outputs": [],
   "source": [
    "  def calculate_weight(helpful_yes, helpful_no):\n",
    "      return helpful_yes / (helpful_yes + helpful_no)\n",
    "\n",
    "# Удаляем линии, где рейтинг или данные о полезности не float\n",
    "filtered_additional_data = filtered_data.filter(lambda line: (line[4].replace('.','').replace('-','').isnumeric()))\n",
    "filtered_additional_data = filtered_additional_data.filter(lambda line: (line[6].replace('.','').replace('-','').isnumeric()))\n",
    "filtered_additional_data = filtered_additional_data.filter(lambda line: (line[7].replace('.','').replace('-','').isnumeric()))\n",
    "\n",
    "# Если helpful_yes + helpful_no = 0, то тоже удаляем, чтобы не делить на ноль\n",
    "filtered_additional_data = filtered_additional_data.filter(lambda line: float(line[6]) + float(line[7]) != 0)\n",
    "\n",
    "# Оставляем только нужные данные и считаем измененный рейтинг\n",
    "additional_data = filtered_additional_data.map(lambda line: (line[1], float(line[4]), float(line[6]), float(line[7])))\n",
    "additional_data = additional_data.map(lambda line: (line[0], line[1] * calculate_weight(line[2], line[3])))\n",
    "additional_data.take(10)\n",
    "    "
   ]
  },
  {
   "cell_type": "code",
   "execution_count": null,
   "id": "73d5edb8",
   "metadata": {},
   "outputs": [],
   "source": [
    "# Объединяем\n",
    "combined_data = reduced_data.join(additional_data)\n",
    "combined_data.take(10)"
   ]
  },
  {
   "cell_type": "code",
   "execution_count": null,
   "id": "a4de1feb",
   "metadata": {},
   "outputs": [],
   "source": [
    "# Сохраняем в файл\n",
    "file = '/home/developer/workspace/results'\n",
    "\n",
    "local_data = combined_data.collect()\n",
    "\n",
    "with open(file, \"w\") as file:\n",
    "    for line in local_data:\n",
    "        file.write(str(line) + \"\\n\")"
   ]
  }
 ],
 "metadata": {
  "kernelspec": {
   "display_name": "Python 3",
   "language": "python",
   "name": "python3"
  },
  "language_info": {
   "codemirror_mode": {
    "name": "ipython",
    "version": 3
   },
   "file_extension": ".py",
   "mimetype": "text/x-python",
   "name": "python",
   "nbconvert_exporter": "python",
   "pygments_lexer": "ipython3",
   "version": "3.6.9"
  }
 },
 "nbformat": 4,
 "nbformat_minor": 5
}
